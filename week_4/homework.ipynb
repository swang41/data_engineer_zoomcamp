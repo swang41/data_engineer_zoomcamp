{
 "cells": [
  {
   "cell_type": "markdown",
   "metadata": {},
   "source": [
    "2. You should have exactly `7,778,101` records in your Green Taxi table\n",
    "3. You should have exactly `109,047,518` records in your Yellow Taxi table\n",
    "4. You should have exactly `43,244,696` records in your FHV table\n",
    "\n",
    "## Load required datas with dlt to BigQuery\n",
    "__Note: Use public data given the repo data has encoding error. There are some minor difference between two data source__ \n",
    "- Green Taxi dataset 2019, 2020 ... repo: `7,778,101` vs public: `8,035,161`\n",
    "- Yellow Taxi dataset 2019, 2020 ... repo: `109,047,518` vs public: `109,247,536`\n",
    "- For Hire Vehicle data set ... repo: `43,244,696` vs public: `58,206,741`"
   ]
  },
  {
   "cell_type": "code",
   "execution_count": 1,
   "metadata": {},
   "outputs": [],
   "source": [
    "import requests\n",
    "from io import BytesIO\n",
    "import dlt\n",
    "import pandas as pd"
   ]
  },
  {
   "cell_type": "code",
   "execution_count": 2,
   "metadata": {},
   "outputs": [],
   "source": [
    "# public data source for New York Data\n",
    "URL_TEMPALTE = \"https://d37ci6vzurychx.cloudfront.net/trip-data/{filename}\"\n",
    "\n",
    "def download_taxi_data_parquet(prefix):\n",
    "    @dlt.resource(name=f\"{prefix}_taxi_data\", write_disposition=\"replace\")\n",
    "    def download_parquet():\n",
    "        for year in [2019, 2020]:\n",
    "            for month in range(1, 13):\n",
    "                if month < 10:\n",
    "                    month = f\"0{month}\"\n",
    "                filename = f\"{prefix}_tripdata_{year}-{month}.parquet\"\n",
    "\n",
    "                url = URL_TEMPALTE.format(filename=filename)\n",
    "                response = requests.get(url)\n",
    "\n",
    "                df = pd.read_parquet(BytesIO(response.content))\n",
    "\n",
    "                yield df\n",
    "    return download_parquet"
   ]
  },
  {
   "cell_type": "code",
   "execution_count": null,
   "metadata": {},
   "outputs": [
    {
     "name": "stderr",
     "output_type": "stream",
     "text": [
      "2025-02-21 17:04:21,016|[WARNING]|11040|19916|dlt|pipeline.py|_state_to_props:1642|The destination dlt.destinations.duckdb:None in state differs from destination dlt.destinations.bigquery:bigquery in pipeline and will be ignored\n"
     ]
    },
    {
     "data": {
      "text/html": [
       "<pre style=\"white-space:pre;overflow-x:auto;line-height:normal;font-family:Menlo,'DejaVu Sans Mono',consolas,'Courier New',monospace\"><span style=\"color: #808000; text-decoration-color: #808000; font-weight: bold\">C:\\Users\\swang\\AppData\\Roaming\\Python\\Python312\\site-packages\\google\\cloud\\bigquery\\client.py:</span><span style=\"color: #808000; text-decoration-color: #808000; font-weight: bold\">595</span><span style=\"color: #808000; text-decoration-color: #808000; font-weight: bold\"> UserWarning</span><span style=\"color: #808000; text-decoration-color: #808000\">: Cannot create BigQuery Storage client, the dependency google-cloud-bigquery-storage is not installed.</span>\n",
       "</pre>\n"
      ],
      "text/plain": [
       "\u001b[1;33mC:\\Users\\swang\\AppData\\Roaming\\Python\\Python312\\site-packages\\google\\cloud\\bigquery\\client.py:\u001b[0m\u001b[1;33m595\u001b[0m\u001b[1;33m UserWarning\u001b[0m\u001b[33m: Cannot create BigQuery Storage client, the dependency google-cloud-bigquery-storage is not installed.\u001b[0m\n"
      ]
     },
     "metadata": {},
     "output_type": "display_data"
    },
    {
     "name": "stderr",
     "output_type": "stream",
     "text": [
      "2025-02-21 17:05:23,049|[WARNING]|11040|19916|dlt|type_mapping.py|to_db_datetime_type:56|Column flags for timezone or precision are not yet supported in this destination. One or both of these flags were used in column 'lpep_pickup_datetime'. in table 'green_taxi_date'.\n",
      "2025-02-21 17:05:23,050|[WARNING]|11040|19916|dlt|type_mapping.py|to_db_datetime_type:56|Column flags for timezone or precision are not yet supported in this destination. One or both of these flags were used in column 'lpep_dropoff_datetime'. in table 'green_taxi_date'.\n"
     ]
    },
    {
     "data": {
      "text/html": [
       "<pre style=\"white-space:pre;overflow-x:auto;line-height:normal;font-family:Menlo,'DejaVu Sans Mono',consolas,'Courier New',monospace\"><span style=\"color: #808000; text-decoration-color: #808000; font-weight: bold\">C:\\Users\\swang\\AppData\\Roaming\\Python\\Python312\\site-packages\\google\\cloud\\bigquery\\client.py:</span><span style=\"color: #808000; text-decoration-color: #808000; font-weight: bold\">595</span><span style=\"color: #808000; text-decoration-color: #808000; font-weight: bold\"> UserWarning</span><span style=\"color: #808000; text-decoration-color: #808000\">: Cannot create BigQuery Storage client, the dependency google-cloud-bigquery-storage is not installed.</span>\n",
       "</pre>\n"
      ],
      "text/plain": [
       "\u001b[1;33mC:\\Users\\swang\\AppData\\Roaming\\Python\\Python312\\site-packages\\google\\cloud\\bigquery\\client.py:\u001b[0m\u001b[1;33m595\u001b[0m\u001b[1;33m UserWarning\u001b[0m\u001b[33m: Cannot create BigQuery Storage client, the dependency google-cloud-bigquery-storage is not installed.\u001b[0m\n"
      ]
     },
     "metadata": {},
     "output_type": "display_data"
    },
    {
     "name": "stderr",
     "output_type": "stream",
     "text": [
      "2025-02-21 17:05:27,288|[WARNING]|11040|19916|dlt|type_mapping.py|to_db_datetime_type:56|Column flags for timezone or precision are not yet supported in this destination. One or both of these flags were used in column 'lpep_pickup_datetime'. in table 'green_taxi_date'.\n",
      "2025-02-21 17:05:27,288|[WARNING]|11040|19916|dlt|type_mapping.py|to_db_datetime_type:56|Column flags for timezone or precision are not yet supported in this destination. One or both of these flags were used in column 'lpep_dropoff_datetime'. in table 'green_taxi_date'.\n"
     ]
    },
    {
     "name": "stdout",
     "output_type": "stream",
     "text": [
      "Pipeline green_taxi_data load step completed in 2 minutes and 50.18 seconds\n",
      "1 load package(s) were loaded to destination bigquery and into dataset nyc_tripdata_hw4\n",
      "The bigquery destination used terraform-runner@zoomcamp-data-engineer-450.iam.gserviceaccount.com@zoomcamp-data-engineer-450 location to store data\n",
      "Load package 1740186268.1508834 is LOADED and contains no failed jobs\n"
     ]
    }
   ],
   "source": [
    "download_green_taxi_data = download_taxi_data_parquet(\"green\")\n",
    "\n",
    "# pipeline_green = dlt.pipeline(\n",
    "#     pipeline_name='green_taxi_data',\n",
    "#     destination='duckdb', # <--- to test pipeline locally\n",
    "#     dataset_name='nyc_tripdata_hw4',\n",
    "# )\n",
    "\n",
    "pipeline_green = dlt.pipeline(\n",
    "    pipeline_name='green_taxi_data',\n",
    "    destination='bigquery', \n",
    "    dataset_name='nyc_tripdata_hw4',\n",
    ")\n",
    "\n",
    "load_info = pipeline_green.run(\n",
    "    download_green_taxi_data())\n",
    "\n",
    "# Print the results\n",
    "print(load_info)"
   ]
  },
  {
   "cell_type": "code",
   "execution_count": null,
   "metadata": {},
   "outputs": [
    {
     "data": {
      "text/html": [
       "<pre style=\"white-space:pre;overflow-x:auto;line-height:normal;font-family:Menlo,'DejaVu Sans Mono',consolas,'Courier New',monospace\"><span style=\"color: #808000; text-decoration-color: #808000; font-weight: bold\">C:\\Users\\swang\\AppData\\Roaming\\Python\\Python312\\site-packages\\google\\cloud\\bigquery\\client.py:</span><span style=\"color: #808000; text-decoration-color: #808000; font-weight: bold\">595</span><span style=\"color: #808000; text-decoration-color: #808000; font-weight: bold\"> UserWarning</span><span style=\"color: #808000; text-decoration-color: #808000\">: Cannot create BigQuery Storage client, the dependency google-cloud-bigquery-storage is not installed.</span>\n",
       "</pre>\n"
      ],
      "text/plain": [
       "\u001b[1;33mC:\\Users\\swang\\AppData\\Roaming\\Python\\Python312\\site-packages\\google\\cloud\\bigquery\\client.py:\u001b[0m\u001b[1;33m595\u001b[0m\u001b[1;33m UserWarning\u001b[0m\u001b[33m: Cannot create BigQuery Storage client, the dependency google-cloud-bigquery-storage is not installed.\u001b[0m\n"
      ]
     },
     "metadata": {},
     "output_type": "display_data"
    },
    {
     "name": "stderr",
     "output_type": "stream",
     "text": [
      "2025-02-24 12:28:59,505|[WARNING]|4292|17604|dlt|pipeline.py|run:723|The pipeline `run` method will now load the pending load packages. The data you passed to the run function will not be loaded. In order to do that you must run the pipeline again\n"
     ]
    },
    {
     "name": "stdout",
     "output_type": "stream",
     "text": [
      "Pipeline yellow_taxi_data load step completed in 16 minutes and 32.56 seconds\n",
      "1 load package(s) were loaded to destination bigquery and into dataset nyc_tripdata_hw4\n",
      "The bigquery destination used terraform-runner@zoomcamp-data-engineer-450.iam.gserviceaccount.com@zoomcamp-data-engineer-450 location to store data\n",
      "Load package 1740426934.707554 is LOADED and contains no failed jobs\n"
     ]
    }
   ],
   "source": [
    "download_yellow_taxi_data = download_taxi_data_parquet(\"yellow\")\n",
    "\n",
    "pipeline_yellow = dlt.pipeline(\n",
    "    pipeline_name='yellow_taxi_data',\n",
    "    destination='bigquery', \n",
    "    dataset_name='nyc_tripdata_hw4',\n",
    ")\n",
    "\n",
    "load_info = pipeline_yellow.run(\n",
    "    download_yellow_taxi_data())\n",
    "\n",
    "# Print the results\n",
    "print(load_info)\n",
    "\n"
   ]
  },
  {
   "cell_type": "code",
   "execution_count": 4,
   "metadata": {},
   "outputs": [
    {
     "name": "stdout",
     "output_type": "stream",
     "text": [
      "Failed due to ValueError, usee the load_taxi_data.py script to upload the data to gcp bucket\n"
     ]
    }
   ],
   "source": [
    "# download_fhv_taxi_data = download_taxi_data_parquet(\"fhv\")\n",
    "\n",
    "# pipeline_fhv = dlt.pipeline(\n",
    "#     pipeline_name='fhv_taxi_data',\n",
    "#     destination='bigquery', \n",
    "#     dataset_name='nyc_tripdata_hw4',\n",
    "# )\n",
    "\n",
    "# load_info = pipeline_fhv.run(\n",
    "#     download_fhv_taxi_data())\n",
    "\n",
    "# # Print the results\n",
    "# print(load_info)\n",
    "\n",
    "print(\"Failed due to ValueError, usee the load_taxi_data.py script to upload the data to gcp bucket\")"
   ]
  },
  {
   "cell_type": "code",
   "execution_count": null,
   "metadata": {},
   "outputs": [],
   "source": []
  },
  {
   "cell_type": "code",
   "execution_count": null,
   "metadata": {},
   "outputs": [],
   "source": []
  },
  {
   "cell_type": "markdown",
   "metadata": {},
   "source": []
  }
 ],
 "metadata": {
  "kernelspec": {
   "display_name": "base",
   "language": "python",
   "name": "python3"
  },
  "language_info": {
   "codemirror_mode": {
    "name": "ipython",
    "version": 3
   },
   "file_extension": ".py",
   "mimetype": "text/x-python",
   "name": "python",
   "nbconvert_exporter": "python",
   "pygments_lexer": "ipython3",
   "version": "3.12.7"
  }
 },
 "nbformat": 4,
 "nbformat_minor": 2
}
